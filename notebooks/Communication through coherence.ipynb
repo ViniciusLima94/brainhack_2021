{
 "cells": [
  {
   "cell_type": "markdown",
   "metadata": {
    "tags": []
   },
   "source": [
    "### Communication through coherence\n",
    "\n",
    "The synchronization of the activity from distinct brain areas has been proposed to be one of the mechanisms by which them integrate while processing similar inputs in order to exchange information or encode the stimulus (Buzsaki G.,2006; Fries P., 2015). Based on this hypothesis, the time-course of the functional connectivity (dFC) can be measured from brain signals using metrics that capture their phase-relation such as the cross-spectra, the phase-locking value (PLV), and the coherence (Bastos A.M., Schoffelen J.M. 2006).\n",
    "\n",
    "<img src=\"img/ctc.jpg\" width=\"300\">"
   ]
  },
  {
   "cell_type": "markdown",
   "metadata": {},
   "source": [
    "#### Estimating FC/dFC\n",
    "\n",
    "If the hypothesis is that sync holds relevant information for, as an example, stimuli encoding. Then the functional connectivity (FC) can be estimated by measuring the phase coupling (PLV) or phase-amplitude coupling (coherence). The figure bellow from Bastos A.M., Schoffelen J.M. 2006 classifies the functional connectivity metrics accordingly to two major critea of being **directed** or **undirected**, and for each of these if they are model-free or model based.\n",
    "\n",
    "The PLV and coherence are model based undirected metrics! Next, we talk in more details of each of those metrics.\n",
    "\n",
    "<img src=\"img/FC_metrics.jpg\" width=\"400\">"
   ]
  },
  {
   "cell_type": "markdown",
   "metadata": {},
   "source": [
    "##### Coherence "
   ]
  },
  {
   "cell_type": "markdown",
   "metadata": {},
   "source": [
    "Coherence is a measurement of phase-amplitude coupling between two time-series $x_1(t)$ and $x_2(t)$ and it is the frequency domain analogous to the cross-correlation. Classically, it is defined as:\n",
    "\n",
    "$c(f)_{12} = |S_{12}(f)|^2/\\sqrt{S_{11}(f)*S_{22}(f)}$\n",
    "\n",
    "In the equation above $S_{ij}(f)$ is given by $S_{ij}(f)=\\langle\\tilde{x_i}(f)\\tilde{x_j}^{*}(f)\\rangle$, with  $x_{i}$ being the Fourier transfom of the $i$-th time-series, and $\\langle .\\rangle$ indicates an ensemble average, as for instance, average over many reconding trials. Withou averaging the coherence $c(f)=1$ for all the frequency domain (**can you show this?**).\n",
    "\n",
    "If we want to move to time-frequency domain we can replace the fourier transform when estimating $S_{ij}$ for the Morlet transform in which we will focus in the examples. In this way, we would have $S_{ij}=W_{i}(t,f)W_{j}^{*}(t,f)$, with  $W_{i}$ being the Morlet coefficients and $.^*$ their complex conjugate. The equantion for the coherence would remain unchanged except for the fact that now $c = c(t,f)$."
   ]
  },
  {
   "cell_type": "code",
   "execution_count": null,
   "metadata": {},
   "outputs": [],
   "source": []
  }
 ],
 "metadata": {
  "kernelspec": {
   "display_name": "Python 3",
   "language": "python",
   "name": "python3"
  },
  "language_info": {
   "codemirror_mode": {
    "name": "ipython",
    "version": 3
   },
   "file_extension": ".py",
   "mimetype": "text/x-python",
   "name": "python",
   "nbconvert_exporter": "python",
   "pygments_lexer": "ipython3",
   "version": "3.8.5"
  }
 },
 "nbformat": 4,
 "nbformat_minor": 5
}
