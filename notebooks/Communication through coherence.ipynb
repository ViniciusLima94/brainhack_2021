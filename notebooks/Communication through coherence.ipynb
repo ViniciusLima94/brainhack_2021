{
 "cells": [
  {
   "cell_type": "markdown",
   "id": "362add2b-2d08-425c-9e38-df5dfa8ce702",
   "metadata": {
    "tags": []
   },
   "source": [
    "### Communication through coherence\n",
    "\n",
    "The synchronization of the activity from distinct brain areas has been proposed to be one of the mechanisms by which them integrate while processing similar inputs in order to exchange information or encode the stimulus (Buzsaki G.,2006; Fries P., 2015). Based on this hypothesis, the time-course of the functional connectivity (dFC) can be measured from brain signals using metrics that capture their phase-relation such as the cross-spectra, the phase-locking value (PLV), and the coherence (Bastos A.M., Schoffelen J.M. 2006).\n",
    "\n",
    "<img src=\"img/ctc.jpg\" width=\"500\">"
   ]
  },
  {
   "cell_type": "markdown",
   "id": "f8e8febf-156f-44c6-abd3-c32f742d37e8",
   "metadata": {},
   "source": [
    "#### Estimating FC/dFC\n",
    "\n",
    "Text\n",
    "\n",
    "<img src=\"img/FC_metrics.jpg\" width=\"400\">"
   ]
  },
  {
   "cell_type": "code",
   "execution_count": null,
   "id": "3c50e9db-881d-4270-abc6-831fe0d23fc0",
   "metadata": {},
   "outputs": [],
   "source": []
  }
 ],
 "metadata": {
  "kernelspec": {
   "display_name": "Python 3 (ipykernel)",
   "language": "python",
   "name": "python3"
  },
  "language_info": {
   "codemirror_mode": {
    "name": "ipython",
    "version": 3
   },
   "file_extension": ".py",
   "mimetype": "text/x-python",
   "name": "python",
   "nbconvert_exporter": "python",
   "pygments_lexer": "ipython3",
   "version": "3.8.8"
  }
 },
 "nbformat": 4,
 "nbformat_minor": 5
}
