{
 "cells": [
  {
   "cell_type": "markdown",
   "metadata": {},
   "source": [
    "### Wavelete coherence "
   ]
  },
  {
   "cell_type": "code",
   "execution_count": 1,
   "metadata": {},
   "outputs": [],
   "source": [
    "import os\n",
    "import sys;sys.path.insert(1,'..')\n",
    "import numpy  as np \n",
    "import xarray as xr\n",
    "\n",
    "import matplotlib.pyplot  as plt\n",
    "import matplotlib.patches as patches\n",
    "import matplotlib\n",
    "import plot\n",
    "\n",
    "from util.surrogates import trial_swap_surrogates\n",
    "\n",
    "from conn.conn_spec  import conn_spec"
   ]
  },
  {
   "cell_type": "code",
   "execution_count": 2,
   "metadata": {},
   "outputs": [],
   "source": [
    "SMALL_SIZE, MEDIUM_SIZE, BIGGER_SIZE=plot.set_plot_config()"
   ]
  },
  {
   "cell_type": "markdown",
   "metadata": {},
   "source": [
    "#### Bias of the wavelet coherence "
   ]
  },
  {
   "cell_type": "markdown",
   "metadata": {},
   "source": [
    "Following Lachaux et. al. (2002) the bias fo the wavelet coherence can be computed as:\n",
    "\n",
    "$B = \\left(1 + 2\\frac{n_{cy}}{n_{co}}\\right)^{-1}$\n",
    "\n",
    "where, $n_{cy}$ is the number of cycles of the wavelet within the integration window $\\delta$, and $n_{co}$ the number of cycles of the wavelet. The integration window is given by:\n",
    "\n",
    "$\\delta = n_{cy}/f$\n",
    "\n",
    "Those function could be used to fit the bias of the wavelet coherence computed for white noise signals.\n",
    "\n",
    "With our terminology, since we input $\\delta$ (sm_times) to the function the bias can be written as:\n",
    "\n",
    "$B = \\left(1 + 2\\frac{f\\delta}{n_{co}}\\right)^{-1}$\n",
    "\n",
    "From this equation it is expected that the bias will be frequency dependent if $n_{co}$ is constant, and frequency independent if $n_{co}$ is proportional to frequency let's say $n_{co}=f/\\sigma_f$, then:\n",
    "\n",
    "$B = \\left(1 + 2\\delta\\sigma_{t}\\right)^{-1}$\n",
    "\n",
    "By comparing the wavelet coherence measured for white noise we can validate the expression above."
   ]
  },
  {
   "cell_type": "code",
   "execution_count": 3,
   "metadata": {},
   "outputs": [],
   "source": [
    "def _bias_lachaux(sm_times, freqs, n_cycles):\n",
    "    return (1+2*sm_times*freqs/n_cycles)**-1"
   ]
  },
  {
   "cell_type": "markdown",
   "metadata": {},
   "source": [
    "### Bias of the metric - White noise vs. Analytical"
   ]
  },
  {
   "cell_type": "code",
   "execution_count": 4,
   "metadata": {},
   "outputs": [],
   "source": [
    "n  = 3650\n",
    "sf = 1000\n",
    "\n",
    "eta = xr.DataArray( np.random.normal(0,1,size=(1,30,n)), \n",
    "                    dims=(\"trials\",\"roi\",\"times\"), \n",
    "                    coords={\"times\": np.arange(n)/sf})"
   ]
  },
  {
   "cell_type": "markdown",
   "metadata": {},
   "source": [
    "#### Constant $\\delta$, and $n_{co}$ constant"
   ]
  },
  {
   "cell_type": "code",
   "execution_count": 5,
   "metadata": {
    "tags": []
   },
   "outputs": [
    {
     "name": "stderr",
     "output_type": "stream",
     "text": [
      "Computing pairwise Coherence (n_pairs=435, n_freqs=50, decim=1, sm_times=100, sm_freqs=1)\n",
      "[Parallel(n_jobs=20)]: Using backend LokyBackend with 20 concurrent workers.\n",
      "[Parallel(n_jobs=20)]: Done  18 out of  30 | elapsed:    4.6s remaining:    3.0s\n",
      "[Parallel(n_jobs=20)]: Done  25 out of  30 | elapsed:    6.8s remaining:    1.4s\n",
      "[Parallel(n_jobs=20)]: Done  30 out of  30 | elapsed:    6.9s finished\n"
     ]
    },
    {
     "data": {
      "application/vnd.jupyter.widget-view+json": {
       "model_id": "2e87b6a1c251436a8f73d4b2d3f6a446",
       "version_major": 2,
       "version_minor": 0
      },
      "text/plain": [
       "  0%|          | Estimating pairwise Coherence for trials 0...0 : 0/435 [00:00<?,       ?it/s]"
      ]
     },
     "metadata": {},
     "output_type": "display_data"
    },
    {
     "name": "stderr",
     "output_type": "stream",
     "text": [
      "ERROR:root:Internal Python error in the inspect module.\n",
      "Below is the traceback from this internal error.\n",
      "\n"
     ]
    },
    {
     "name": "stdout",
     "output_type": "stream",
     "text": [
      "Traceback (most recent call last):\n",
      "  File \"/home/vinicius/anaconda3/envs/brainhack/lib/python3.8/site-packages/IPython/core/interactiveshell.py\", line 3457, in run_code\n",
      "    exec(code_obj, self.user_global_ns, self.user_ns)\n",
      "  File \"/tmp/ipykernel_840402/3504621058.py\", line 16, in <module>\n",
      "    coh_eta += [conn_spec(eta, **kw)]\n",
      "  File \"../conn/conn_spec.py\", line 250, in conn_spec\n",
      "    conn_tr = conn_f(w, kernel, foi_idx, x_s, x_t, kw_para)\n",
      "  File \"../conn/conn_spec.py\", line 50, in _coh\n",
      "    return parallel(p_fun(s, t) for s, t in zip(x_s, x_t))\n",
      "  File \"/home/vinicius/anaconda3/envs/brainhack/lib/python3.8/site-packages/frites/utils/parallel.py\", line 63, in parallel_progress\n",
      "    return parallel(ProgressBar(iterable=op_iter, max_value=total,\n",
      "  File \"/home/vinicius/anaconda3/envs/brainhack/lib/python3.8/site-packages/joblib/parallel.py\", line 1056, in __call__\n",
      "    self.retrieve()\n",
      "  File \"/home/vinicius/anaconda3/envs/brainhack/lib/python3.8/site-packages/joblib/parallel.py\", line 935, in retrieve\n",
      "    self._output.extend(job.get(timeout=self.timeout))\n",
      "  File \"/home/vinicius/anaconda3/envs/brainhack/lib/python3.8/site-packages/joblib/_parallel_backends.py\", line 542, in wrap_future_result\n",
      "    return future.result(timeout=timeout)\n",
      "  File \"/home/vinicius/anaconda3/envs/brainhack/lib/python3.8/concurrent/futures/_base.py\", line 434, in result\n",
      "    self._condition.wait(timeout)\n",
      "  File \"/home/vinicius/anaconda3/envs/brainhack/lib/python3.8/threading.py\", line 302, in wait\n",
      "    waiter.acquire()\n",
      "KeyboardInterrupt\n",
      "\n",
      "During handling of the above exception, another exception occurred:\n",
      "\n",
      "Traceback (most recent call last):\n",
      "  File \"/home/vinicius/anaconda3/envs/brainhack/lib/python3.8/site-packages/IPython/core/interactiveshell.py\", line 2077, in showtraceback\n",
      "    stb = value._render_traceback_()\n",
      "AttributeError: 'KeyboardInterrupt' object has no attribute '_render_traceback_'\n",
      "\n",
      "During handling of the above exception, another exception occurred:\n",
      "\n",
      "Traceback (most recent call last):\n",
      "  File \"/home/vinicius/anaconda3/envs/brainhack/lib/python3.8/site-packages/IPython/core/ultratb.py\", line 1101, in get_records\n",
      "    return _fixed_getinnerframes(etb, number_of_lines_of_context, tb_offset)\n",
      "  File \"/home/vinicius/anaconda3/envs/brainhack/lib/python3.8/site-packages/IPython/core/ultratb.py\", line 248, in wrapped\n",
      "    return f(*args, **kwargs)\n",
      "  File \"/home/vinicius/anaconda3/envs/brainhack/lib/python3.8/site-packages/IPython/core/ultratb.py\", line 281, in _fixed_getinnerframes\n",
      "    records = fix_frame_records_filenames(inspect.getinnerframes(etb, context))\n",
      "  File \"/home/vinicius/anaconda3/envs/brainhack/lib/python3.8/inspect.py\", line 1515, in getinnerframes\n",
      "    frameinfo = (tb.tb_frame,) + getframeinfo(tb, context)\n",
      "  File \"/home/vinicius/anaconda3/envs/brainhack/lib/python3.8/inspect.py\", line 1473, in getframeinfo\n",
      "    filename = getsourcefile(frame) or getfile(frame)\n",
      "  File \"/home/vinicius/anaconda3/envs/brainhack/lib/python3.8/inspect.py\", line 708, in getsourcefile\n",
      "    if getattr(getmodule(object, filename), '__loader__', None) is not None:\n",
      "  File \"/home/vinicius/anaconda3/envs/brainhack/lib/python3.8/inspect.py\", line 751, in getmodule\n",
      "    f = getabsfile(module)\n",
      "  File \"/home/vinicius/anaconda3/envs/brainhack/lib/python3.8/inspect.py\", line 720, in getabsfile\n",
      "    _filename = getsourcefile(object) or getfile(object)\n",
      "  File \"/home/vinicius/anaconda3/envs/brainhack/lib/python3.8/inspect.py\", line 705, in getsourcefile\n",
      "    if os.path.exists(filename):\n",
      "  File \"/home/vinicius/anaconda3/envs/brainhack/lib/python3.8/genericpath.py\", line 19, in exists\n",
      "    os.stat(path)\n",
      "KeyboardInterrupt\n"
     ]
    },
    {
     "ename": "TypeError",
     "evalue": "object of type 'NoneType' has no len()",
     "output_type": "error",
     "traceback": [
      "\u001b[0;31m---------------------------------------------------------------------------\u001b[0m",
      "\u001b[0;31mKeyboardInterrupt\u001b[0m                         Traceback (most recent call last)",
      "    \u001b[0;31m[... skipping hidden 1 frame]\u001b[0m\n",
      "\u001b[0;32m/tmp/ipykernel_840402/3504621058.py\u001b[0m in \u001b[0;36m<module>\u001b[0;34m\u001b[0m\n\u001b[1;32m     15\u001b[0m     \u001b[0mkw\u001b[0m\u001b[0;34m[\u001b[0m\u001b[0;34m\"sm_times\"\u001b[0m\u001b[0;34m]\u001b[0m \u001b[0;34m=\u001b[0m \u001b[0mw_t\u001b[0m\u001b[0;34m[\u001b[0m\u001b[0mi\u001b[0m\u001b[0;34m]\u001b[0m\u001b[0;34m\u001b[0m\u001b[0;34m\u001b[0m\u001b[0m\n\u001b[0;32m---> 16\u001b[0;31m     \u001b[0mcoh_eta\u001b[0m \u001b[0;34m+=\u001b[0m \u001b[0;34m[\u001b[0m\u001b[0mconn_spec\u001b[0m\u001b[0;34m(\u001b[0m\u001b[0meta\u001b[0m\u001b[0;34m,\u001b[0m \u001b[0;34m**\u001b[0m\u001b[0mkw\u001b[0m\u001b[0;34m)\u001b[0m\u001b[0;34m]\u001b[0m\u001b[0;34m\u001b[0m\u001b[0;34m\u001b[0m\u001b[0m\n\u001b[0m",
      "\u001b[0;32m~/projects/brainhack_2021/conn/conn_spec.py\u001b[0m in \u001b[0;36mconn_spec\u001b[0;34m(data, freqs, metric, roi, times, pairs, sfreq, foi, sm_times, sm_freqs, sm_kernel, mode, n_cycles, mt_bandwidth, decim, kw_cwt, kw_mt, block_size, n_jobs, verbose, dtype)\u001b[0m\n\u001b[1;32m    249\u001b[0m         \u001b[0;31m# computes conn across trials\u001b[0m\u001b[0;34m\u001b[0m\u001b[0;34m\u001b[0m\u001b[0;34m\u001b[0m\u001b[0m\n\u001b[0;32m--> 250\u001b[0;31m         \u001b[0mconn_tr\u001b[0m \u001b[0;34m=\u001b[0m \u001b[0mconn_f\u001b[0m\u001b[0;34m(\u001b[0m\u001b[0mw\u001b[0m\u001b[0;34m,\u001b[0m \u001b[0mkernel\u001b[0m\u001b[0;34m,\u001b[0m \u001b[0mfoi_idx\u001b[0m\u001b[0;34m,\u001b[0m \u001b[0mx_s\u001b[0m\u001b[0;34m,\u001b[0m \u001b[0mx_t\u001b[0m\u001b[0;34m,\u001b[0m \u001b[0mkw_para\u001b[0m\u001b[0;34m)\u001b[0m\u001b[0;34m\u001b[0m\u001b[0;34m\u001b[0m\u001b[0m\n\u001b[0m\u001b[1;32m    251\u001b[0m \u001b[0;34m\u001b[0m\u001b[0m\n",
      "\u001b[0;32m~/projects/brainhack_2021/conn/conn_spec.py\u001b[0m in \u001b[0;36m_coh\u001b[0;34m(w, kernel, foi_idx, x_s, x_t, kw_para)\u001b[0m\n\u001b[1;32m     49\u001b[0m     \u001b[0;31m# compute the single trial coherence\u001b[0m\u001b[0;34m\u001b[0m\u001b[0;34m\u001b[0m\u001b[0;34m\u001b[0m\u001b[0m\n\u001b[0;32m---> 50\u001b[0;31m     \u001b[0;32mreturn\u001b[0m \u001b[0mparallel\u001b[0m\u001b[0;34m(\u001b[0m\u001b[0mp_fun\u001b[0m\u001b[0;34m(\u001b[0m\u001b[0ms\u001b[0m\u001b[0;34m,\u001b[0m \u001b[0mt\u001b[0m\u001b[0;34m)\u001b[0m \u001b[0;32mfor\u001b[0m \u001b[0ms\u001b[0m\u001b[0;34m,\u001b[0m \u001b[0mt\u001b[0m \u001b[0;32min\u001b[0m \u001b[0mzip\u001b[0m\u001b[0;34m(\u001b[0m\u001b[0mx_s\u001b[0m\u001b[0;34m,\u001b[0m \u001b[0mx_t\u001b[0m\u001b[0;34m)\u001b[0m\u001b[0;34m)\u001b[0m\u001b[0;34m\u001b[0m\u001b[0;34m\u001b[0m\u001b[0m\n\u001b[0m\u001b[1;32m     51\u001b[0m \u001b[0;34m\u001b[0m\u001b[0m\n",
      "\u001b[0;32m~/anaconda3/envs/brainhack/lib/python3.8/site-packages/frites/utils/parallel.py\u001b[0m in \u001b[0;36mparallel_progress\u001b[0;34m(op_iter)\u001b[0m\n\u001b[1;32m     62\u001b[0m         \u001b[0;32mdef\u001b[0m \u001b[0mparallel_progress\u001b[0m\u001b[0;34m(\u001b[0m\u001b[0mop_iter\u001b[0m\u001b[0;34m)\u001b[0m\u001b[0;34m:\u001b[0m\u001b[0;34m\u001b[0m\u001b[0;34m\u001b[0m\u001b[0m\n\u001b[0;32m---> 63\u001b[0;31m             return parallel(ProgressBar(iterable=op_iter, max_value=total,\n\u001b[0m\u001b[1;32m     64\u001b[0m                                         mesg=mesg))\n",
      "\u001b[0;32m~/anaconda3/envs/brainhack/lib/python3.8/site-packages/joblib/parallel.py\u001b[0m in \u001b[0;36m__call__\u001b[0;34m(self, iterable)\u001b[0m\n\u001b[1;32m   1055\u001b[0m             \u001b[0;32mwith\u001b[0m \u001b[0mself\u001b[0m\u001b[0;34m.\u001b[0m\u001b[0m_backend\u001b[0m\u001b[0;34m.\u001b[0m\u001b[0mretrieval_context\u001b[0m\u001b[0;34m(\u001b[0m\u001b[0;34m)\u001b[0m\u001b[0;34m:\u001b[0m\u001b[0;34m\u001b[0m\u001b[0;34m\u001b[0m\u001b[0m\n\u001b[0;32m-> 1056\u001b[0;31m                 \u001b[0mself\u001b[0m\u001b[0;34m.\u001b[0m\u001b[0mretrieve\u001b[0m\u001b[0;34m(\u001b[0m\u001b[0;34m)\u001b[0m\u001b[0;34m\u001b[0m\u001b[0;34m\u001b[0m\u001b[0m\n\u001b[0m\u001b[1;32m   1057\u001b[0m             \u001b[0;31m# Make sure that we get a last message telling us we are done\u001b[0m\u001b[0;34m\u001b[0m\u001b[0;34m\u001b[0m\u001b[0;34m\u001b[0m\u001b[0m\n",
      "\u001b[0;32m~/anaconda3/envs/brainhack/lib/python3.8/site-packages/joblib/parallel.py\u001b[0m in \u001b[0;36mretrieve\u001b[0;34m(self)\u001b[0m\n\u001b[1;32m    934\u001b[0m                 \u001b[0;32mif\u001b[0m \u001b[0mgetattr\u001b[0m\u001b[0;34m(\u001b[0m\u001b[0mself\u001b[0m\u001b[0;34m.\u001b[0m\u001b[0m_backend\u001b[0m\u001b[0;34m,\u001b[0m \u001b[0;34m'supports_timeout'\u001b[0m\u001b[0;34m,\u001b[0m \u001b[0;32mFalse\u001b[0m\u001b[0;34m)\u001b[0m\u001b[0;34m:\u001b[0m\u001b[0;34m\u001b[0m\u001b[0;34m\u001b[0m\u001b[0m\n\u001b[0;32m--> 935\u001b[0;31m                     \u001b[0mself\u001b[0m\u001b[0;34m.\u001b[0m\u001b[0m_output\u001b[0m\u001b[0;34m.\u001b[0m\u001b[0mextend\u001b[0m\u001b[0;34m(\u001b[0m\u001b[0mjob\u001b[0m\u001b[0;34m.\u001b[0m\u001b[0mget\u001b[0m\u001b[0;34m(\u001b[0m\u001b[0mtimeout\u001b[0m\u001b[0;34m=\u001b[0m\u001b[0mself\u001b[0m\u001b[0;34m.\u001b[0m\u001b[0mtimeout\u001b[0m\u001b[0;34m)\u001b[0m\u001b[0;34m)\u001b[0m\u001b[0;34m\u001b[0m\u001b[0;34m\u001b[0m\u001b[0m\n\u001b[0m\u001b[1;32m    936\u001b[0m                 \u001b[0;32melse\u001b[0m\u001b[0;34m:\u001b[0m\u001b[0;34m\u001b[0m\u001b[0;34m\u001b[0m\u001b[0m\n",
      "\u001b[0;32m~/anaconda3/envs/brainhack/lib/python3.8/site-packages/joblib/_parallel_backends.py\u001b[0m in \u001b[0;36mwrap_future_result\u001b[0;34m(future, timeout)\u001b[0m\n\u001b[1;32m    541\u001b[0m         \u001b[0;32mtry\u001b[0m\u001b[0;34m:\u001b[0m\u001b[0;34m\u001b[0m\u001b[0;34m\u001b[0m\u001b[0m\n\u001b[0;32m--> 542\u001b[0;31m             \u001b[0;32mreturn\u001b[0m \u001b[0mfuture\u001b[0m\u001b[0;34m.\u001b[0m\u001b[0mresult\u001b[0m\u001b[0;34m(\u001b[0m\u001b[0mtimeout\u001b[0m\u001b[0;34m=\u001b[0m\u001b[0mtimeout\u001b[0m\u001b[0;34m)\u001b[0m\u001b[0;34m\u001b[0m\u001b[0;34m\u001b[0m\u001b[0m\n\u001b[0m\u001b[1;32m    543\u001b[0m         \u001b[0;32mexcept\u001b[0m \u001b[0mCfTimeoutError\u001b[0m \u001b[0;32mas\u001b[0m \u001b[0me\u001b[0m\u001b[0;34m:\u001b[0m\u001b[0;34m\u001b[0m\u001b[0;34m\u001b[0m\u001b[0m\n",
      "\u001b[0;32m~/anaconda3/envs/brainhack/lib/python3.8/concurrent/futures/_base.py\u001b[0m in \u001b[0;36mresult\u001b[0;34m(self, timeout)\u001b[0m\n\u001b[1;32m    433\u001b[0m \u001b[0;34m\u001b[0m\u001b[0m\n\u001b[0;32m--> 434\u001b[0;31m             \u001b[0mself\u001b[0m\u001b[0;34m.\u001b[0m\u001b[0m_condition\u001b[0m\u001b[0;34m.\u001b[0m\u001b[0mwait\u001b[0m\u001b[0;34m(\u001b[0m\u001b[0mtimeout\u001b[0m\u001b[0;34m)\u001b[0m\u001b[0;34m\u001b[0m\u001b[0;34m\u001b[0m\u001b[0m\n\u001b[0m\u001b[1;32m    435\u001b[0m \u001b[0;34m\u001b[0m\u001b[0m\n",
      "\u001b[0;32m~/anaconda3/envs/brainhack/lib/python3.8/threading.py\u001b[0m in \u001b[0;36mwait\u001b[0;34m(self, timeout)\u001b[0m\n\u001b[1;32m    301\u001b[0m             \u001b[0;32mif\u001b[0m \u001b[0mtimeout\u001b[0m \u001b[0;32mis\u001b[0m \u001b[0;32mNone\u001b[0m\u001b[0;34m:\u001b[0m\u001b[0;34m\u001b[0m\u001b[0;34m\u001b[0m\u001b[0m\n\u001b[0;32m--> 302\u001b[0;31m                 \u001b[0mwaiter\u001b[0m\u001b[0;34m.\u001b[0m\u001b[0macquire\u001b[0m\u001b[0;34m(\u001b[0m\u001b[0;34m)\u001b[0m\u001b[0;34m\u001b[0m\u001b[0;34m\u001b[0m\u001b[0m\n\u001b[0m\u001b[1;32m    303\u001b[0m                 \u001b[0mgotit\u001b[0m \u001b[0;34m=\u001b[0m \u001b[0;32mTrue\u001b[0m\u001b[0;34m\u001b[0m\u001b[0;34m\u001b[0m\u001b[0m\n",
      "\u001b[0;31mKeyboardInterrupt\u001b[0m: ",
      "\nDuring handling of the above exception, another exception occurred:\n",
      "\u001b[0;31mAttributeError\u001b[0m                            Traceback (most recent call last)",
      "\u001b[0;32m~/anaconda3/envs/brainhack/lib/python3.8/site-packages/IPython/core/interactiveshell.py\u001b[0m in \u001b[0;36mshowtraceback\u001b[0;34m(self, exc_tuple, filename, tb_offset, exception_only, running_compiled_code)\u001b[0m\n\u001b[1;32m   2076\u001b[0m                         \u001b[0;31m# in the engines. This should return a list of strings.\u001b[0m\u001b[0;34m\u001b[0m\u001b[0;34m\u001b[0m\u001b[0;34m\u001b[0m\u001b[0m\n\u001b[0;32m-> 2077\u001b[0;31m                         \u001b[0mstb\u001b[0m \u001b[0;34m=\u001b[0m \u001b[0mvalue\u001b[0m\u001b[0;34m.\u001b[0m\u001b[0m_render_traceback_\u001b[0m\u001b[0;34m(\u001b[0m\u001b[0;34m)\u001b[0m\u001b[0;34m\u001b[0m\u001b[0;34m\u001b[0m\u001b[0m\n\u001b[0m\u001b[1;32m   2078\u001b[0m                     \u001b[0;32mexcept\u001b[0m \u001b[0mException\u001b[0m\u001b[0;34m:\u001b[0m\u001b[0;34m\u001b[0m\u001b[0;34m\u001b[0m\u001b[0m\n",
      "\u001b[0;31mAttributeError\u001b[0m: 'KeyboardInterrupt' object has no attribute '_render_traceback_'",
      "\nDuring handling of the above exception, another exception occurred:\n",
      "\u001b[0;31mTypeError\u001b[0m                                 Traceback (most recent call last)",
      "    \u001b[0;31m[... skipping hidden 1 frame]\u001b[0m\n",
      "\u001b[0;32m~/anaconda3/envs/brainhack/lib/python3.8/site-packages/IPython/core/interactiveshell.py\u001b[0m in \u001b[0;36mshowtraceback\u001b[0;34m(self, exc_tuple, filename, tb_offset, exception_only, running_compiled_code)\u001b[0m\n\u001b[1;32m   2077\u001b[0m                         \u001b[0mstb\u001b[0m \u001b[0;34m=\u001b[0m \u001b[0mvalue\u001b[0m\u001b[0;34m.\u001b[0m\u001b[0m_render_traceback_\u001b[0m\u001b[0;34m(\u001b[0m\u001b[0;34m)\u001b[0m\u001b[0;34m\u001b[0m\u001b[0;34m\u001b[0m\u001b[0m\n\u001b[1;32m   2078\u001b[0m                     \u001b[0;32mexcept\u001b[0m \u001b[0mException\u001b[0m\u001b[0;34m:\u001b[0m\u001b[0;34m\u001b[0m\u001b[0;34m\u001b[0m\u001b[0m\n\u001b[0;32m-> 2079\u001b[0;31m                         stb = self.InteractiveTB.structured_traceback(etype,\n\u001b[0m\u001b[1;32m   2080\u001b[0m                                             value, tb, tb_offset=tb_offset)\n\u001b[1;32m   2081\u001b[0m \u001b[0;34m\u001b[0m\u001b[0m\n",
      "\u001b[0;32m~/anaconda3/envs/brainhack/lib/python3.8/site-packages/IPython/core/ultratb.py\u001b[0m in \u001b[0;36mstructured_traceback\u001b[0;34m(self, etype, value, tb, tb_offset, number_of_lines_of_context)\u001b[0m\n\u001b[1;32m   1365\u001b[0m         \u001b[0;32melse\u001b[0m\u001b[0;34m:\u001b[0m\u001b[0;34m\u001b[0m\u001b[0;34m\u001b[0m\u001b[0m\n\u001b[1;32m   1366\u001b[0m             \u001b[0mself\u001b[0m\u001b[0;34m.\u001b[0m\u001b[0mtb\u001b[0m \u001b[0;34m=\u001b[0m \u001b[0mtb\u001b[0m\u001b[0;34m\u001b[0m\u001b[0;34m\u001b[0m\u001b[0m\n\u001b[0;32m-> 1367\u001b[0;31m         return FormattedTB.structured_traceback(\n\u001b[0m\u001b[1;32m   1368\u001b[0m             self, etype, value, tb, tb_offset, number_of_lines_of_context)\n\u001b[1;32m   1369\u001b[0m \u001b[0;34m\u001b[0m\u001b[0m\n",
      "\u001b[0;32m~/anaconda3/envs/brainhack/lib/python3.8/site-packages/IPython/core/ultratb.py\u001b[0m in \u001b[0;36mstructured_traceback\u001b[0;34m(self, etype, value, tb, tb_offset, number_of_lines_of_context)\u001b[0m\n\u001b[1;32m   1265\u001b[0m         \u001b[0;32mif\u001b[0m \u001b[0mmode\u001b[0m \u001b[0;32min\u001b[0m \u001b[0mself\u001b[0m\u001b[0;34m.\u001b[0m\u001b[0mverbose_modes\u001b[0m\u001b[0;34m:\u001b[0m\u001b[0;34m\u001b[0m\u001b[0;34m\u001b[0m\u001b[0m\n\u001b[1;32m   1266\u001b[0m             \u001b[0;31m# Verbose modes need a full traceback\u001b[0m\u001b[0;34m\u001b[0m\u001b[0;34m\u001b[0m\u001b[0;34m\u001b[0m\u001b[0m\n\u001b[0;32m-> 1267\u001b[0;31m             return VerboseTB.structured_traceback(\n\u001b[0m\u001b[1;32m   1268\u001b[0m                 \u001b[0mself\u001b[0m\u001b[0;34m,\u001b[0m \u001b[0metype\u001b[0m\u001b[0;34m,\u001b[0m \u001b[0mvalue\u001b[0m\u001b[0;34m,\u001b[0m \u001b[0mtb\u001b[0m\u001b[0;34m,\u001b[0m \u001b[0mtb_offset\u001b[0m\u001b[0;34m,\u001b[0m \u001b[0mnumber_of_lines_of_context\u001b[0m\u001b[0;34m\u001b[0m\u001b[0;34m\u001b[0m\u001b[0m\n\u001b[1;32m   1269\u001b[0m             )\n",
      "\u001b[0;32m~/anaconda3/envs/brainhack/lib/python3.8/site-packages/IPython/core/ultratb.py\u001b[0m in \u001b[0;36mstructured_traceback\u001b[0;34m(self, etype, evalue, etb, tb_offset, number_of_lines_of_context)\u001b[0m\n\u001b[1;32m   1122\u001b[0m         \u001b[0;34m\"\"\"Return a nice text document describing the traceback.\"\"\"\u001b[0m\u001b[0;34m\u001b[0m\u001b[0;34m\u001b[0m\u001b[0m\n\u001b[1;32m   1123\u001b[0m \u001b[0;34m\u001b[0m\u001b[0m\n\u001b[0;32m-> 1124\u001b[0;31m         formatted_exception = self.format_exception_as_a_whole(etype, evalue, etb, number_of_lines_of_context,\n\u001b[0m\u001b[1;32m   1125\u001b[0m                                                                tb_offset)\n\u001b[1;32m   1126\u001b[0m \u001b[0;34m\u001b[0m\u001b[0m\n",
      "\u001b[0;32m~/anaconda3/envs/brainhack/lib/python3.8/site-packages/IPython/core/ultratb.py\u001b[0m in \u001b[0;36mformat_exception_as_a_whole\u001b[0;34m(self, etype, evalue, etb, number_of_lines_of_context, tb_offset)\u001b[0m\n\u001b[1;32m   1080\u001b[0m \u001b[0;34m\u001b[0m\u001b[0m\n\u001b[1;32m   1081\u001b[0m \u001b[0;34m\u001b[0m\u001b[0m\n\u001b[0;32m-> 1082\u001b[0;31m         \u001b[0mlast_unique\u001b[0m\u001b[0;34m,\u001b[0m \u001b[0mrecursion_repeat\u001b[0m \u001b[0;34m=\u001b[0m \u001b[0mfind_recursion\u001b[0m\u001b[0;34m(\u001b[0m\u001b[0morig_etype\u001b[0m\u001b[0;34m,\u001b[0m \u001b[0mevalue\u001b[0m\u001b[0;34m,\u001b[0m \u001b[0mrecords\u001b[0m\u001b[0;34m)\u001b[0m\u001b[0;34m\u001b[0m\u001b[0;34m\u001b[0m\u001b[0m\n\u001b[0m\u001b[1;32m   1083\u001b[0m \u001b[0;34m\u001b[0m\u001b[0m\n\u001b[1;32m   1084\u001b[0m         \u001b[0mframes\u001b[0m \u001b[0;34m=\u001b[0m \u001b[0mself\u001b[0m\u001b[0;34m.\u001b[0m\u001b[0mformat_records\u001b[0m\u001b[0;34m(\u001b[0m\u001b[0mrecords\u001b[0m\u001b[0;34m,\u001b[0m \u001b[0mlast_unique\u001b[0m\u001b[0;34m,\u001b[0m \u001b[0mrecursion_repeat\u001b[0m\u001b[0;34m)\u001b[0m\u001b[0;34m\u001b[0m\u001b[0;34m\u001b[0m\u001b[0m\n",
      "\u001b[0;32m~/anaconda3/envs/brainhack/lib/python3.8/site-packages/IPython/core/ultratb.py\u001b[0m in \u001b[0;36mfind_recursion\u001b[0;34m(etype, value, records)\u001b[0m\n\u001b[1;32m    380\u001b[0m     \u001b[0;31m# first frame (from in to out) that looks different.\u001b[0m\u001b[0;34m\u001b[0m\u001b[0;34m\u001b[0m\u001b[0;34m\u001b[0m\u001b[0m\n\u001b[1;32m    381\u001b[0m     \u001b[0;32mif\u001b[0m \u001b[0;32mnot\u001b[0m \u001b[0mis_recursion_error\u001b[0m\u001b[0;34m(\u001b[0m\u001b[0metype\u001b[0m\u001b[0;34m,\u001b[0m \u001b[0mvalue\u001b[0m\u001b[0;34m,\u001b[0m \u001b[0mrecords\u001b[0m\u001b[0;34m)\u001b[0m\u001b[0;34m:\u001b[0m\u001b[0;34m\u001b[0m\u001b[0;34m\u001b[0m\u001b[0m\n\u001b[0;32m--> 382\u001b[0;31m         \u001b[0;32mreturn\u001b[0m \u001b[0mlen\u001b[0m\u001b[0;34m(\u001b[0m\u001b[0mrecords\u001b[0m\u001b[0;34m)\u001b[0m\u001b[0;34m,\u001b[0m \u001b[0;36m0\u001b[0m\u001b[0;34m\u001b[0m\u001b[0;34m\u001b[0m\u001b[0m\n\u001b[0m\u001b[1;32m    383\u001b[0m \u001b[0;34m\u001b[0m\u001b[0m\n\u001b[1;32m    384\u001b[0m     \u001b[0;31m# Select filename, lineno, func_name to track frames with\u001b[0m\u001b[0;34m\u001b[0m\u001b[0;34m\u001b[0m\u001b[0;34m\u001b[0m\u001b[0m\n",
      "\u001b[0;31mTypeError\u001b[0m: object of type 'NoneType' has no len()"
     ]
    }
   ],
   "source": [
    "delta    = 1\n",
    "freqs    = np.linspace(10,100,50)\n",
    "w_t      = np.linspace(0.1, 2., 20)\n",
    "\n",
    "n_cycles = 7.\n",
    "\n",
    "kw = dict(\n",
    "    freqs=freqs, times=\"times\", roi=\"roi\", foi=None, n_jobs=20, pairs=None, sfreq=1000,\n",
    "    mode=\"morlet\", n_cycles=n_cycles, decim=delta, metric=\"coh\", sm_kernel=\"square\",\n",
    "    sm_freqs=1, block_size=1\n",
    ")\n",
    "\n",
    "coh_eta = []\n",
    "for i in range( len(w_t) ):\n",
    "    kw[\"sm_times\"] = w_t[i]\n",
    "    coh_eta += [conn_spec(eta, **kw)]"
   ]
  },
  {
   "cell_type": "code",
   "execution_count": null,
   "metadata": {},
   "outputs": [],
   "source": [
    "B   = []\n",
    "B_t = []\n",
    "\n",
    "for i in range( len(w_t) ):\n",
    "    B += [coh_eta[i].isel(times=slice(20,-20)).squeeze().mean(dim=(\"roi\",\"times\"))]\n",
    "    #B_t += [(1 + 2*n_cy[i]/n_cycles)**-1 ]\n",
    "    B_t += [_bias_lachaux(w_t[i], freqs, n_cycles) ]"
   ]
  },
  {
   "cell_type": "code",
   "execution_count": null,
   "metadata": {},
   "outputs": [],
   "source": [
    "plt.figure(figsize=(15,10))\n",
    "for i in range( len(w_t) ):\n",
    "    plt.subplot(5,4,i+1)\n",
    "    plt.title(f\"w_t = {np.round(w_t[i],2)}\")\n",
    "    plt.plot(freqs, B[i], '-')\n",
    "    #plt.plot(freqs, [B_t[i]]*len(freqs), \".\")\n",
    "    plt.plot(freqs, B_t[i], \".\")\n",
    "    plt.ylim(0,1.03)\n",
    "    if i==0: plt.legend([\"White-noise\", \"Analytical\"])\n",
    "    if i>15: plt.xlabel(\"Frequency [Hz]\")\n",
    "    if i%4==0: plt.ylabel(\"Bias\")\n",
    "plt.tight_layout()"
   ]
  },
  {
   "cell_type": "markdown",
   "metadata": {},
   "source": [
    "#### Constant $\\delta$, and $n_{co}$ proportional to frequency"
   ]
  },
  {
   "cell_type": "code",
   "execution_count": null,
   "metadata": {
    "tags": []
   },
   "outputs": [],
   "source": [
    "delta    = 1\n",
    "freqs    = np.linspace(10,100,50)\n",
    "w_t      = np.linspace(0.1, 2., 20)\n",
    "\n",
    "n_cycles = freqs/2.\n",
    "\n",
    "kw = dict(\n",
    "    freqs=freqs, times=\"times\", roi=\"roi\", foi=None, n_jobs=20, pairs=None, sfreq=1000,\n",
    "    mode=\"morlet\", n_cycles=n_cycles, decim=delta, metric=\"coh\", sm_kernel=\"square\",\n",
    "    sm_freqs=1, block_size=1\n",
    ")\n",
    "\n",
    "coh_eta = []\n",
    "for i in range( len(w_t) ):\n",
    "    kw[\"sm_times\"] = w_t[i]\n",
    "    coh_eta += [conn_spec(eta, **kw)]"
   ]
  },
  {
   "cell_type": "code",
   "execution_count": null,
   "metadata": {},
   "outputs": [],
   "source": [
    "B   = []\n",
    "B_t = []\n",
    "\n",
    "for i in range( len(w_t) ):\n",
    "    B += [coh_eta[i].isel(times=slice(20,-20)).squeeze().mean(dim=(\"roi\",\"times\"))]\n",
    "    #B_t += [(1 + 2*n_cy[i]/n_cycles)**-1 ]\n",
    "    B_t += [_bias_lachaux(w_t[i], freqs, n_cycles) ]"
   ]
  },
  {
   "cell_type": "code",
   "execution_count": null,
   "metadata": {},
   "outputs": [],
   "source": [
    "plt.figure(figsize=(15,10))\n",
    "for i in range( len(w_t) ):\n",
    "    plt.subplot(5,4,i+1)\n",
    "    plt.title(f\"w_t = {np.round(w_t[i],2)}\")\n",
    "    plt.plot(freqs, B[i], '-')\n",
    "    #plt.plot(freqs, [B_t[i]]*len(freqs), \".\")\n",
    "    plt.plot(freqs, B_t[i], \".\")\n",
    "    plt.ylim(0,1.03)\n",
    "    if i==0: plt.legend([\"White-noise\", \"Analytical\"])\n",
    "    if i>15: plt.xlabel(\"Frequency [Hz]\")\n",
    "    if i%4==0: plt.ylabel(\"Bias\")\n",
    "plt.tight_layout()"
   ]
  },
  {
   "cell_type": "code",
   "execution_count": null,
   "metadata": {},
   "outputs": [],
   "source": [
    "fig = plt.figure(figsize=(8,6))\n",
    "ax  = plt.subplot(111)\n",
    "B_total   = np.mean(B, -1)\n",
    "B_t_total = np.mean(B_t, -1)\n",
    "plt.plot(w_t, B_total, \"o\", label=\"white-noise\")\n",
    "plt.plot(w_t, B_t_total, \"-\", label=\"analytical\")\n",
    "plt.legend(fontsize=BIGGER_SIZE)\n",
    "plt.vlines(0.3, 0, 9, \"gray\", lw=3)\n",
    "plt.vlines(0.6, 0, 9, \"gray\", ls=\"--\", lw=3)\n",
    "plt.vlines(1.0, 0, 9, \"gray\", ls=\"-.\", lw=3)\n",
    "plt.ylim(0, .9)\n",
    "plt.xlim(0.05, 2.05)\n",
    "plt.ylabel(\"Bias\", fontsize=BIGGER_SIZE)\n",
    "plt.xlabel(r\"$w_t$ [s]\", fontsize=BIGGER_SIZE)\n",
    "ax.spines['right'].set_visible(False)\n",
    "ax.spines['top'].set_visible(False)\n",
    "plt.tight_layout()"
   ]
  },
  {
   "cell_type": "markdown",
   "metadata": {},
   "source": [
    "#### Variable $\\delta$, and $n_{co}$ constant"
   ]
  },
  {
   "cell_type": "code",
   "execution_count": null,
   "metadata": {
    "tags": []
   },
   "outputs": [],
   "source": [
    "delta    = 1\n",
    "freqs    = np.linspace(10,100,50)\n",
    "n_cy     = np.linspace(1, 40, 20)\n",
    "\n",
    "n_cycles = 7.\n",
    "\n",
    "kw = dict(\n",
    "    freqs=freqs, times=\"times\", roi=\"roi\", foi=None, n_jobs=20, pairs=None, sfreq=1000,\n",
    "    mode=\"morlet\", n_cycles=n_cycles, decim=delta, metric=\"coh\", sm_kernel=\"square\",\n",
    "    sm_freqs=1, block_size=1\n",
    ")\n",
    "\n",
    "\n",
    "\n",
    "coh_eta = []\n",
    "for i in range( len(n_cy) ):\n",
    "    # compute the coherence\n",
    "    kw[\"sm_times\"] = n_cy[i]/freqs\n",
    "    coh_eta += [conn_spec(eta, **kw)]"
   ]
  },
  {
   "cell_type": "code",
   "execution_count": null,
   "metadata": {},
   "outputs": [],
   "source": [
    "B   = []\n",
    "B_t = []\n",
    "\n",
    "for i in range( len(n_cy) ):\n",
    "    B += [coh_eta[i].isel(times=slice(20,-20)).squeeze().mean(dim=(\"roi\",\"times\"))]\n",
    "    #B_t += [(1 + 2*n_cy[i]/n_cycles)**-1 ]\n",
    "    B_t += [_bias_lachaux(n_cy[i]/freqs, freqs, n_cycles) ]"
   ]
  },
  {
   "cell_type": "code",
   "execution_count": null,
   "metadata": {},
   "outputs": [],
   "source": [
    "plt.figure(figsize=(15,10))\n",
    "for i in range( len(n_cy) ):\n",
    "    plt.subplot(5,4,i+1)\n",
    "    plt.title(f\"n_cy = {np.round(n_cy[i],2)}\")\n",
    "    plt.plot(freqs, B[i], '-')\n",
    "    #plt.plot(freqs, [B_t[i]]*len(freqs), \".\")\n",
    "    plt.plot(freqs, B_t[i], \".\")\n",
    "    plt.ylim(0,1.03)\n",
    "    if i==0: plt.legend([\"White-noise\", \"Analytical\"])\n",
    "    if i>15: plt.xlabel(\"Frequency [Hz]\")\n",
    "    if i%4==0: plt.ylabel(\"Bias\")\n",
    "plt.tight_layout()"
   ]
  },
  {
   "cell_type": "markdown",
   "metadata": {},
   "source": [
    "#### Variable $\\delta$, and $n_{co}$ frequency dependent"
   ]
  },
  {
   "cell_type": "code",
   "execution_count": null,
   "metadata": {},
   "outputs": [],
   "source": [
    "delta    = 1\n",
    "freqs    = np.linspace(10,100,50)\n",
    "n_cy     = np.linspace(1, 40, 20)\n",
    "\n",
    "n_cycles = freqs/2.\n",
    "\n",
    "kw = dict(\n",
    "    freqs=freqs, times=\"times\", roi=\"roi\", foi=None, n_jobs=20, pairs=None, sfreq=1000,\n",
    "    mode=\"morlet\", n_cycles=n_cycles, decim=delta, metric=\"coh\", sm_kernel=\"square\",\n",
    "    sm_freqs=1, block_size=1\n",
    ")\n",
    "\n",
    "\n",
    "\n",
    "coh_eta = []\n",
    "for i in range( len(n_cy) ):\n",
    "    # compute the coherence\n",
    "    kw[\"sm_times\"] = n_cy[i]/freqs\n",
    "    coh_eta += [conn_spec(eta, **kw)]"
   ]
  },
  {
   "cell_type": "code",
   "execution_count": null,
   "metadata": {},
   "outputs": [],
   "source": [
    "B   = []\n",
    "B_t = []\n",
    "\n",
    "for i in range( len(n_cy) ):\n",
    "    B += [coh_eta[i].isel(times=slice(20,-20)).squeeze().mean(dim=(\"roi\",\"times\"))]\n",
    "    #B_t += [(1 + 2*n_cy[i]/n_cycles)**-1 ]\n",
    "    B_t += [_bias_lachaux(n_cy[i]/freqs, freqs, n_cycles) ]"
   ]
  },
  {
   "cell_type": "code",
   "execution_count": null,
   "metadata": {},
   "outputs": [],
   "source": [
    "plt.figure(figsize=(15,10))\n",
    "for i in range( len(n_cy) ):\n",
    "    plt.subplot(5,4,i+1)\n",
    "    plt.title(f\"n_cy = {np.round(n_cy[i],2)}\")\n",
    "    plt.plot(freqs, B[i], '-')\n",
    "    #plt.plot(freqs, [B_t[i]]*len(freqs), \".\")\n",
    "    plt.plot(freqs, B_t[i], \".\")\n",
    "    plt.ylim(0,1.03)\n",
    "    if i==0: plt.legend([\"White-noise\", \"Analytical\"])\n",
    "    if i>15: plt.xlabel(\"Frequency [Hz]\")\n",
    "    if i%4==0: plt.ylabel(\"Bias\")\n",
    "plt.tight_layout()"
   ]
  },
  {
   "cell_type": "code",
   "execution_count": null,
   "metadata": {},
   "outputs": [],
   "source": []
  }
 ],
 "metadata": {
  "kernelspec": {
   "display_name": "Python 3 (ipykernel)",
   "language": "python",
   "name": "python3"
  },
  "language_info": {
   "codemirror_mode": {
    "name": "ipython",
    "version": 3
   },
   "file_extension": ".py",
   "mimetype": "text/x-python",
   "name": "python",
   "nbconvert_exporter": "python",
   "pygments_lexer": "ipython3",
   "version": "3.8.8"
  }
 },
 "nbformat": 4,
 "nbformat_minor": 4
}
