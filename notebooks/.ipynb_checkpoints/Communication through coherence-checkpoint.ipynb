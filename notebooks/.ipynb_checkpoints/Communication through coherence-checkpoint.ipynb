{
 "cells": [
  {
   "cell_type": "markdown",
   "id": "362add2b-2d08-425c-9e38-df5dfa8ce702",
   "metadata": {},
   "source": [
    "### Communication through coherence"
   ]
  },
  {
   "cell_type": "code",
   "execution_count": null,
   "id": "88e886d4-d90d-4e66-a5de-b14f893725ab",
   "metadata": {},
   "outputs": [],
   "source": []
  }
 ],
 "metadata": {
  "kernelspec": {
   "display_name": "Python 3",
   "language": "python",
   "name": "python3"
  },
  "language_info": {
   "codemirror_mode": {
    "name": "ipython",
    "version": 3
   },
   "file_extension": ".py",
   "mimetype": "text/x-python",
   "name": "python",
   "nbconvert_exporter": "python",
   "pygments_lexer": "ipython3",
   "version": "3.8.8"
  }
 },
 "nbformat": 4,
 "nbformat_minor": 5
}
