{
 "cells": [
  {
   "cell_type": "markdown",
   "metadata": {
    "tags": []
   },
   "source": [
    "### Communication through coherence\n",
    "\n",
    "The synchronization of the activity from distinct brain areas has been proposed to be one of the mechanisms by which them integrate while processing similar inputs in order to exchange information or encode the stimulus (Buzsaki G.,2006; Fries P., 2015). Based on this hypothesis, the time-course of the functional connectivity (dFC) can be measured from brain signals using metrics that capture their phase-relation such as the cross-spectra, the phase-locking value (PLV), and the coherence (Bastos A.M., Schoffelen J.M. 2006).\n",
    "\n",
    "<img src=\"img/ctc.jpg\" width=\"300\">"
   ]
  },
  {
   "cell_type": "markdown",
   "metadata": {},
   "source": [
    "#### Estimating FC/dFC\n",
    "\n",
    "If the hypothesis is that sync holds relevant information for, as an example, stimuli encoding. Then the functional connectivity (FC) can be estimated by measuring the phase coupling (PLV) or phase-amplitude coupling (coherence). The figure bellow from Bastos A.M., Schoffelen J.M. 2006 classifies the functional connectivity metrics accordingly to two major critea of being **directed** or **undirected**, and for each of these if they are model-free or model based.\n",
    "\n",
    "The PLV and coherence are model based undirected metrics! Next, we talk in more details of each of those metrics.\n",
    "\n",
    "<img src=\"img/FC_metrics.jpg\" width=\"400\">"
   ]
  },
  {
   "cell_type": "markdown",
   "metadata": {},
   "source": [
    "##### Coherence "
   ]
  },
  {
   "cell_type": "markdown",
   "metadata": {},
   "source": [
    "Coherence is a measurement of phase-amplitude coupling between two time-series $x_1(t)$ and $x_2(t)$ and it is the frequency domain analogous to the cross-correlation. Classically, it is defined as:\n",
    "\n",
    "$c(f)_{12} = \\frac{|S_{12}(f)|^2}{\\sqrt{S_{11}(f)*S_{22}(f)}}$\n",
    "\n",
    "In the equation above the spectra $S_{ij}(f)$ is given by $S_{ij}(f)=\\langle\\tilde{x_i}(f)\\tilde{x_j}^{*}(f)\\rangle$, with  $x_{i}$ being the Fourier transfom of the $i$-th time-series, and $\\langle .\\rangle$ indicates an ensemble average, as for instance, average over many reconding trials. Withou averaging the coherence $c(f)=1$ for all the frequency domain (**can you show this?**).\n",
    "\n",
    "If we want to move to time-frequency domain we can replace the fourier transform when estimating $S_{ij}$ for the Morlet transform in which we will focus in the examples. In this way, we would have $S_{ij}=W_{i}(t,f)W_{j}^{*}(t,f)$, with  $W_{i}$ being the Morlet coefficients and $.^*$ their complex conjugate. The equantion for the coherence would remain unchanged except for the fact that now $c = c(t,f)$.\n",
    "\n",
    "The next step for defining the time-frequency coherence at single-trial level. How could we do this given that withou the ensemble average $c(t,f)=1$ for all $(t,f)$ as mentioned above? \n",
    "\n",
    "A way of surrounding this is instead of computing cohernce for each single $(t,f)$ point to define a integration window in which coherence is computed. A practical way of doing that is fisrt smoothing the single-trials spectra. Doing, so the single-trial coherence can be defined as:\n",
    "\n",
    "$c_{xy}^{T}(t,f) = \\frac{| \\tilde{g}S^{T}_{xy}(t,f)|^2}{ \\tilde{g}S^{T}_{xx}(t,f) \\tilde{g}S^{T}_{yy}(t,f)}$\n",
    "\n",
    "Where $\\tilde{g}$ is the smoothing kernel Fourier transformed, the index $.^T$ indicates the trial for which coherence is being computed. More specifically, the smoothing kernel can be expressed as $g(w_f,w_t)$, where  $w_f$ and $w_t$ are its dimensions in frequency and time, respectively.\n",
    "\n",
    "Bellow we show an example of time-resolved between two LFP signals $x(t)$ and $y(t)$ in (A) we show a signal $x(t)$ sampled from the pre-frontal cortex (area a9/46D in blue) and from the parietal cortex (are LIP in magenta); in (B) we show the non-smoothed version the auto-spectra for each signal ($S_{xx}$ and $S_{yy}$) their cross-spectra ($S_{xy}$) and coherence ($c_{xy}$) which displayed unity value for all time-frequency domain; in (C) we show the same as in (B) but after smoothing the auto- and cross-spectra with a \"boxcar\" kernel with dimensions $w_f=1$ Hz and $w_t=500$ ms (depicted as a red rectangle in the bottom-left corner of each plot), in this case we could retrieve the coherence values.\n",
    "\n",
    "<img src=\"img/coh.jpg\" width=\"800\">"
   ]
  },
  {
   "cell_type": "markdown",
   "metadata": {},
   "source": [
    "##### A word on the wavelets "
   ]
  },
  {
   "cell_type": "code",
   "execution_count": null,
   "metadata": {},
   "outputs": [],
   "source": []
  }
 ],
 "metadata": {
  "kernelspec": {
   "display_name": "Python 3",
   "language": "python",
   "name": "python3"
  },
  "language_info": {
   "codemirror_mode": {
    "name": "ipython",
    "version": 3
   },
   "file_extension": ".py",
   "mimetype": "text/x-python",
   "name": "python",
   "nbconvert_exporter": "python",
   "pygments_lexer": "ipython3",
   "version": "3.8.5"
  }
 },
 "nbformat": 4,
 "nbformat_minor": 5
}
