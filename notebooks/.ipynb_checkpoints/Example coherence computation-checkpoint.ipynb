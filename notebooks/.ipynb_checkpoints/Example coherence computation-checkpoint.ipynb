{
 "cells": [
  {
   "cell_type": "markdown",
   "metadata": {},
   "source": [
    "###  Example of the coherence computation\n",
    "\n",
    "In this notebook we use the autoregressive example model from [Dhamala et. al.](https://journals.aps.org/prl/abstract/10.1103/PhysRevLett.100.018701). The model consists of two coupled random variables ($2\\rightarrow 1$), the coupling is time-varying therefore the coherence should detect the coupling dynamics. The model is given by the equations bellow:\n",
    "\n",
    "$X_{1}(t) = 0.55X_{1}(t-1)-0.8X_{1}(t-2)+C(t)X_{2}(t-1)+\\epsilon (t)$\n",
    "\n",
    "$X_{2}(t) = 0.55X_{2}(t-1)-0.8X_{2}(t-2)+\\xi (t)$\n",
    "\n",
    "Here, $X_1(t)$ and $X_2(t)$ are $AR(2)$. The variable $t$ is the time step index,\n",
    "such that the actual time is $t'=t\\,\\Delta t=t/f_{\\rm s}$. Besides, we know by construction that\n",
    "$X_2(t)$ influences $X_1(t)$ through the coupling constant $C$\n",
    "(although the opposite does not happen). In the simulation $C(t)=0.25$ for $t<15$ s, and zero otherwise. "
   ]
  },
  {
   "cell_type": "code",
   "execution_count": 1,
   "metadata": {},
   "outputs": [],
   "source": [
    "import os\n",
    "import sys;sys.path.insert(0,'..')\n",
    "import time\n",
    "import numpy                 as     np\n",
    "import xarray                as     xr\n",
    "import matplotlib.pyplot     as     plt\n",
    "import matplotlib\n",
    "import plot\n",
    "from   conn.conn_spec    import conn_spec"
   ]
  },
  {
   "cell_type": "code",
   "execution_count": 2,
   "metadata": {},
   "outputs": [],
   "source": [
    "SMALL_SIZE, MEDIUM_SIZE, BIGGER_SIZE = plot.set_plot_config()\n",
    "bands = ['0-25Hz','25-50Hz', '50-75Hz','75-100Hz']"
   ]
  },
  {
   "cell_type": "code",
   "execution_count": 3,
   "metadata": {},
   "outputs": [],
   "source": [
    "# Path to folder where to save figures\n",
    "path_fig = \"img/examples\""
   ]
  },
  {
   "cell_type": "code",
   "execution_count": 4,
   "metadata": {},
   "outputs": [],
   "source": [
    "# Create directory to save figures\n",
    "if not os.path.exists(path_fig):\n",
    "    os.makedirs(path_fig)"
   ]
  },
  {
   "cell_type": "markdown",
   "metadata": {},
   "source": [
    "#### Defining function to simulate de model"
   ]
  },
  {
   "cell_type": "code",
   "execution_count": 5,
   "metadata": {},
   "outputs": [],
   "source": [
    "def ar_model_dhamala(N=5000, Trials = 10, Fs = 200, C=0.2, t_start=0, t_stop=None, cov = None):\n",
    "    ''' \n",
    "        AR model from Dhamala et. al.\n",
    "    '''\n",
    "    \n",
    "    T = N / Fs\n",
    "\n",
    "    time = np.linspace(0, T, N)\n",
    "\n",
    "    X = np.random.random([Trials, N]) \n",
    "    Y = np.random.random([Trials, N]) \n",
    "\n",
    "    def interval(t, t_start, t_stop):\n",
    "        if t_stop==None:\n",
    "            return (t>=t_start)\n",
    "        else:\n",
    "            return (t>=t_start)*(t<=t_stop)\n",
    "\n",
    "    for i in range(Trials):\n",
    "        E = np.random.multivariate_normal(np.zeros(cov.shape[0]), cov, size=(N,))\n",
    "        for t in range(2, N): \n",
    "            X[i,t] = 0.55*X[i,t-1] - 0.8*X[i,t-2] + interval(time[t],t_start,t_stop)*C*Y[i,t-1] + E[t,0]\n",
    "            Y[i,t] = 0.55*Y[i,t-1] - 0.8*Y[i,t-2] + E[t,1]\n",
    "\n",
    "    Z = np.zeros([Trials,2,N]) \n",
    "\n",
    "    Z[:,0,:] = X \n",
    "    Z[:,1,:] = Y \n",
    "\n",
    "    return Z"
   ]
  },
  {
   "cell_type": "markdown",
   "metadata": {},
   "source": [
    "Model parameters"
   ]
  },
  {
   "cell_type": "code",
   "execution_count": 6,
   "metadata": {},
   "outputs": [],
   "source": [
    "N  = 5000      # Number of observations\n",
    "Fs = 200       # Sampling frequency\n",
    "dt = 1.0 / Fs  # Time resolution\n",
    "C  = 0.25      # Coupling parameter\n",
    "Trials = 100   # Number of trials\n",
    "freqs  = np.arange(1,100,1) # Frequency axis\n",
    "# Covariance matrix\n",
    "cov = np.array([ [1.00, 0.00],\n",
    "                 [0.00, 1.00] ])"
   ]
  },
  {
   "cell_type": "markdown",
   "metadata": {},
   "source": [
    "Generating data"
   ]
  },
  {
   "cell_type": "code",
   "execution_count": 7,
   "metadata": {},
   "outputs": [],
   "source": [
    "# Generating data\n",
    "X = ar_model_dhamala(N=N, Trials = Trials, C=C, Fs=Fs, t_start=0, t_stop=15, cov=cov)"
   ]
  },
  {
   "cell_type": "code",
   "execution_count": 8,
   "metadata": {},
   "outputs": [],
   "source": [
    "X = xr.DataArray(X, dims=('trials', 'roi', 'times'),\n",
    "                 coords=(np.arange(Trials), ['r0', 'r1'], np.arange(N) / Fs))"
   ]
  },
  {
   "cell_type": "markdown",
   "metadata": {},
   "source": [
    "### Measuring coherence"
   ]
  },
  {
   "cell_type": "markdown",
   "metadata": {},
   "source": [
    "To compute the coherence first the cross ($S_{12}(f,t)$), and auto-spectogram ($S_{11}(f,t)$ and $S_{22}(f,t)$) are computed. The coherence is defined as:\n",
    "\n",
    "$C_{12}(f,t) = \\frac{S_{12}S_{12}^{*}}{S_{11}S_{22}}$\n",
    "\n",
    "However, for the equation above $C_{12}(f,t)=1$ $\\forall \\text{  } f, \\text{ and } t$. Therefore, before taking the ratio in the equation above some temporal and frequency smoothing should be done. To do this, we convolve the auto- and cross-spectogram with a square window of size $w_f$, and $w_rt$, for the frequency and time axis, respectively.\n",
    "\n",
    "Let's $g(w_t,w_f)$ be the filter, and $\\tilde{g}(w_t,w_f)$ its representation in the frequency domain. We can then convolve each spectra with $g$, which gives:\n",
    "\n",
    "$C_{12}(f,t) = \\frac{\\tilde{g}*(S_{12}S_{12}^{*})}{\\tilde{g}*(S_{11})\\tilde{g}*(S_{22})}$\n",
    "\n",
    "Note that we ommit the dependencies on $f$ and $t$ for the spectra, and on $w_t$ and $w_f$ for the filter."
   ]
  },
  {
   "cell_type": "code",
   "execution_count": 9,
   "metadata": {},
   "outputs": [
    {
     "ename": "TypeError",
     "evalue": "conn_io() got an unexpected keyword argument 'freqs'",
     "output_type": "error",
     "traceback": [
      "\u001b[0;31m---------------------------------------------------------------------------\u001b[0m",
      "\u001b[0;31mTypeError\u001b[0m                                 Traceback (most recent call last)",
      "\u001b[0;32m/tmp/ipykernel_1955646/2901048920.py\u001b[0m in \u001b[0;36m<module>\u001b[0;34m\u001b[0m\n\u001b[1;32m     11\u001b[0m \u001b[0;34m\u001b[0m\u001b[0m\n\u001b[1;32m     12\u001b[0m \u001b[0;31m# compute the coherence\u001b[0m\u001b[0;34m\u001b[0m\u001b[0;34m\u001b[0m\u001b[0;34m\u001b[0m\u001b[0m\n\u001b[0;32m---> 13\u001b[0;31m \u001b[0mcoh\u001b[0m \u001b[0;34m=\u001b[0m \u001b[0mconn_spec\u001b[0m\u001b[0;34m(\u001b[0m\u001b[0mX\u001b[0m\u001b[0;34m,\u001b[0m \u001b[0;34m**\u001b[0m\u001b[0mkw\u001b[0m\u001b[0;34m)\u001b[0m\u001b[0;34m\u001b[0m\u001b[0;34m\u001b[0m\u001b[0m\n\u001b[0m\u001b[1;32m     14\u001b[0m \u001b[0;34m\u001b[0m\u001b[0m\n\u001b[1;32m     15\u001b[0m \u001b[0mend\u001b[0m \u001b[0;34m=\u001b[0m \u001b[0mtime\u001b[0m\u001b[0;34m.\u001b[0m\u001b[0mtime\u001b[0m\u001b[0;34m(\u001b[0m\u001b[0;34m)\u001b[0m\u001b[0;34m\u001b[0m\u001b[0;34m\u001b[0m\u001b[0m\n",
      "\u001b[0;32m~/projects/brainhack_2021/conn/conn_spec.py\u001b[0m in \u001b[0;36mconn_spec\u001b[0;34m(data, freqs, metric, roi, times, pairs, sfreq, foi, sm_times, sm_freqs, sm_kernel, mode, n_cycles, mt_bandwidth, decim, kw_cwt, kw_mt, block_size, n_jobs, verbose, dtype)\u001b[0m\n\u001b[1;32m    200\u001b[0m     \u001b[0;31m# _________________________________ INPUTS ________________________________\u001b[0m\u001b[0;34m\u001b[0m\u001b[0;34m\u001b[0m\u001b[0;34m\u001b[0m\u001b[0m\n\u001b[1;32m    201\u001b[0m     \u001b[0;31m# inputs conversion\u001b[0m\u001b[0;34m\u001b[0m\u001b[0;34m\u001b[0m\u001b[0;34m\u001b[0m\u001b[0m\n\u001b[0;32m--> 202\u001b[0;31m     data, cfg = conn_io(\n\u001b[0m\u001b[1;32m    203\u001b[0m         \u001b[0mdata\u001b[0m\u001b[0;34m,\u001b[0m \u001b[0mtimes\u001b[0m\u001b[0;34m=\u001b[0m\u001b[0mtimes\u001b[0m\u001b[0;34m,\u001b[0m \u001b[0mroi\u001b[0m\u001b[0;34m=\u001b[0m\u001b[0mroi\u001b[0m\u001b[0;34m,\u001b[0m \u001b[0magg_ch\u001b[0m\u001b[0;34m=\u001b[0m\u001b[0;32mFalse\u001b[0m\u001b[0;34m,\u001b[0m \u001b[0mwin_sample\u001b[0m\u001b[0;34m=\u001b[0m\u001b[0;32mNone\u001b[0m\u001b[0;34m,\u001b[0m \u001b[0mpairs\u001b[0m\u001b[0;34m=\u001b[0m\u001b[0mpairs\u001b[0m\u001b[0;34m,\u001b[0m\u001b[0;34m\u001b[0m\u001b[0;34m\u001b[0m\u001b[0m\n\u001b[1;32m    204\u001b[0m         \u001b[0msort\u001b[0m\u001b[0;34m=\u001b[0m\u001b[0;32mTrue\u001b[0m\u001b[0;34m,\u001b[0m \u001b[0mblock_size\u001b[0m\u001b[0;34m=\u001b[0m\u001b[0mblock_size\u001b[0m\u001b[0;34m,\u001b[0m \u001b[0msfreq\u001b[0m\u001b[0;34m=\u001b[0m\u001b[0msfreq\u001b[0m\u001b[0;34m,\u001b[0m \u001b[0mfreqs\u001b[0m\u001b[0;34m=\u001b[0m\u001b[0mfreqs\u001b[0m\u001b[0;34m,\u001b[0m \u001b[0mfoi\u001b[0m\u001b[0;34m=\u001b[0m\u001b[0mfoi\u001b[0m\u001b[0;34m,\u001b[0m\u001b[0;34m\u001b[0m\u001b[0;34m\u001b[0m\u001b[0m\n",
      "\u001b[0;31mTypeError\u001b[0m: conn_io() got an unexpected keyword argument 'freqs'"
     ]
    }
   ],
   "source": [
    "start = time.time()\n",
    "\n",
    "# define temporal windows + compute the DFC\n",
    "n_cycles = freqs/2.\n",
    "\n",
    "kw = dict(\n",
    "    freqs=freqs, times=\"times\", roi=None, foi=None, n_jobs=-1,\n",
    "    mode='morlet', n_cycles=n_cycles, decim=15, metric=\"coh\", sm_kernel=\"square\",\n",
    "    sm_times=1.5, sm_freqs=1, block_size=1\n",
    ")\n",
    "\n",
    "# compute the coherence\n",
    "coh = conn_spec(X, **kw)\n",
    "\n",
    "end = time.time()\n",
    "\n",
    "print('Elapsed time to load super-tensor: ' +str((end - start)) + ' sec.' )"
   ]
  },
  {
   "cell_type": "code",
   "execution_count": null,
   "metadata": {},
   "outputs": [],
   "source": [
    "plt.figure(figsize=(15,6))\n",
    "coh.isel(roi=0).mean(\"trials\").plot.imshow(x=\"times\", y=\"freqs\", cmap=\"turbo\")\n",
    "plt.ylabel('Frequency [Hz]', fontsize=15)\n",
    "plt.xlabel('Time [s]', fontsize=15)\n",
    "plt.title('Coherence', fontsize=15)"
   ]
  },
  {
   "cell_type": "markdown",
   "metadata": {},
   "source": [
    "### Influence of the smoothing window in the estimation of the coherence\n",
    "\n",
    "Next we analyse how the temporal and frequency smoothing influences the coherence computation. The other parameters such as down-sampling factor ($\\Delta$) and number of cycles ($\\lambda$) are maintained fixed: $\\Delta = 15$ and $\\lambda = f_c/2$, where $f_c$ are the center frequencies used.\n",
    "\n",
    "One important thing to note is: what is the duration of the smoothing window in time?\n",
    "\n",
    "If $f_s$ is the original sampling frequency of the signal, with a down-sampling factor of $\\Delta$, and the time-smoothing window of $w_t$ is given in bins, its respective time-length is simply:\n",
    "\n",
    "$w_t^{'} = w_t \\Delta/f_s$\n",
    "\n",
    "To demonstrate the influence of the dimensions of the filter $g$ in the coherence estimation we will use the combination of the following values for $w_t$ and $w_f$, respectively: $w_t=\\{1, 10, 30, 70\\}$, $w_t=\\{1, 3, 5\\}$. Notice that we use the values of $w_t$ and $w_f$ in bins but their respective length in time can be obtained using \n",
    "the equation above.\n",
    "\n",
    "Below we show the results for the Morlet and Multitaper methods, respectively."
   ]
  },
  {
   "cell_type": "code",
   "execution_count": null,
   "metadata": {},
   "outputs": [],
   "source": [
    "win_time = [.1, 0.5, 1.0, 2.0]\n",
    "win_freq = [1, 3, 5]"
   ]
  },
  {
   "cell_type": "code",
   "execution_count": null,
   "metadata": {},
   "outputs": [],
   "source": [
    "def plot_coh(ax, wt, wf):\n",
    "    \n",
    "    plt.sca(ax)\n",
    "    \n",
    "    # define temporal windows + compute the DFC\n",
    "    n_cycles = freqs / 2.\n",
    "\n",
    "    kw = dict(\n",
    "        freqs=freqs, times=\"times\", roi=None, foi=None, n_jobs=-1,\n",
    "        mode='morlet', n_cycles=n_cycles, decim=15, metric=\"coh\",\n",
    "        sm_times=wt, sm_freqs=wf, block_size=1\n",
    "    )\n",
    "\n",
    "    # compute the coherence\n",
    "    coh = conn_spec(X, **kw)\n",
    "\n",
    "    \n",
    "    plt.imshow(coh.isel(roi=0).mean(dim=\"trials\"), aspect=\"auto\", cmap=\"viridis\", origin=\"lower\",\n",
    "               extent=[coh.times[0], coh.times[-1], coh.freqs[0], coh.freqs[-1]], \n",
    "               vmin=0, vmax=1)\n",
    "    \n",
    "    del coh"
   ]
  },
  {
   "cell_type": "code",
   "execution_count": null,
   "metadata": {},
   "outputs": [],
   "source": [
    "fig = plt.figure(figsize=(7., 3.8), dpi=150)\n",
    "\n",
    "gs1 = fig.add_gridspec(nrows=len(win_freq), ncols=len(win_time)+1, width_ratios=(1,1,1,1,0.1), left=0.07, right=0.92, bottom=0.05, top=0.95)\n",
    "\n",
    "# Panel A\n",
    "ax1 = plt.subplot(gs1[0])\n",
    "ax2 = plt.subplot(gs1[1])\n",
    "ax3 = plt.subplot(gs1[2])\n",
    "ax4 = plt.subplot(gs1[3])\n",
    "ax5 = plt.subplot(gs1[4]) # bar\n",
    "ax6 = plt.subplot(gs1[5])\n",
    "ax7 = plt.subplot(gs1[6])\n",
    "ax8 = plt.subplot(gs1[7])\n",
    "ax9 = plt.subplot(gs1[8])\n",
    "ax10 = plt.subplot(gs1[9]) # bar\n",
    "ax11 = plt.subplot(gs1[10])\n",
    "ax12 = plt.subplot(gs1[11])\n",
    "ax13 = plt.subplot(gs1[12])\n",
    "ax14 = plt.subplot(gs1[13])\n",
    "ax15 = plt.subplot(gs1[14]) # bar\n",
    "\n",
    "plt.sca(ax5)\n",
    "plt.axis(\"off\")\n",
    "plt.sca(ax10)\n",
    "plt.axis(\"off\")\n",
    "\n",
    "ax_list = fig.get_axes()\n",
    "use     = np.array( [0,1,2,3,5,6,7,8,10,11,12,13] )\n",
    "comb    = np.array(list(itertools.product(win_freq, win_time)))\n",
    "_iter   = np.hstack((use[:,None],comb))\n",
    "\n",
    "for count, wf, wt in _iter:\n",
    "    plot_coh(ax_list[int(count)], wt, wf )\n",
    "    if wf < 5: plt.xticks([])\n",
    "    if wt > .1: plt.yticks([])\n",
    "    if wf==1: plt.title(r\"$w_t = $\"+str(wt))\n",
    "    if wt==.1: plt.ylabel(\"Frequency [Hz]\", fontsize=SMALL_SIZE)\n",
    "    if wf==5: plt.xlabel(\"Time [s]\", fontsize=SMALL_SIZE)\n",
    "\n",
    "bg = plot.Background(visible=False)\n",
    "\n",
    "plot.add_panel_letters(fig, axes=[ax1, ax6, ax11], fontsize=12,\n",
    "                       xpos=[-0.2]*3, ypos=[1.0]*3)\n",
    "\n",
    "norm = matplotlib.colors.Normalize(vmin=0, vmax=1)\n",
    "cbar = plt.colorbar(mappable=plt.cm.ScalarMappable(cmap=matplotlib.cm.viridis, norm=norm), cax=ax15, extend=None, shrink=0.1)\n",
    "cbar.ax.set_ylabel(\"coherence\", rotation='vertical', fontsize=SMALL_SIZE)\n",
    "\n",
    "plt.savefig(f\"{path_fig}/win_smooth_dependence.png\")"
   ]
  },
  {
   "cell_type": "markdown",
   "metadata": {},
   "source": [
    "### Single-trial coherence estimation using Morlet method"
   ]
  },
  {
   "cell_type": "code",
   "execution_count": null,
   "metadata": {},
   "outputs": [],
   "source": [
    "kw['sm_times']     = 1.5\n",
    "kw[\"foi\"]          = foi   = np.array([\n",
    "                                        [0.1, 25.],\n",
    "                                        [25., 50.],\n",
    "                                        [50., 75.],\n",
    "                                        [75., 100.],\n",
    "                                            ])\n",
    " \n",
    "coh = conn_spec(X, **kw)"
   ]
  },
  {
   "cell_type": "code",
   "execution_count": null,
   "metadata": {},
   "outputs": [],
   "source": [
    "fig = plt.figure(figsize=(6., 3.8), dpi=150)\n",
    "\n",
    "gs1 = fig.add_gridspec(nrows=2, ncols=3, width_ratios=(1,1,0.05), left=0.08, right=0.90, bottom=0.12, top=0.94)\n",
    "\n",
    "# Panel A\n",
    "ax1 = plt.subplot(gs1[0])\n",
    "ax2 = plt.subplot(gs1[1])\n",
    "ax3 = plt.subplot(gs1[2])\n",
    "ax4 = plt.subplot(gs1[3])\n",
    "ax5 = plt.subplot(gs1[4])\n",
    "ax6 = plt.subplot(gs1[5])\n",
    "\n",
    "plt.sca(ax3)\n",
    "plt.axis(\"off\")\n",
    "\n",
    "plt.sca(ax1)\n",
    "plt.imshow(coh.isel(roi=0,freqs=0), aspect=\"auto\", cmap=\"viridis\", origin=\"lower\",\n",
    "           extent=[coh.times[0], coh.times[-1], coh.trials[0], coh.trials[-1]], \n",
    "           vmin=0, vmax=.7)\n",
    "plt.title(f\"{bands[0]}\")\n",
    "plt.ylabel(\"Trials\")\n",
    "plt.xticks([])\n",
    "plt.sca(ax2)\n",
    "plt.imshow(coh.isel(roi=0,freqs=1), aspect=\"auto\", cmap=\"viridis\", origin=\"lower\",\n",
    "           extent=[coh.times[0], coh.times[-1], coh.trials[0], coh.trials[-1]], \n",
    "           vmin=0, vmax=.7)\n",
    "plt.title(f\"{bands[1]}\")\n",
    "plt.xticks([])\n",
    "plt.yticks([])\n",
    "plt.sca(ax4)\n",
    "plt.imshow(coh.isel(roi=0,freqs=2), aspect=\"auto\", cmap=\"viridis\", origin=\"lower\",\n",
    "           extent=[coh.times[0], coh.times[-1], coh.trials[0], coh.trials[-1]], \n",
    "           vmin=0, vmax=.7)\n",
    "plt.title(f\"{bands[2]}\")\n",
    "plt.ylabel(\"Trials\")\n",
    "plt.xlabel(\"Time [s]\")\n",
    "plt.sca(ax5)\n",
    "plt.imshow(coh.isel(roi=0,freqs=3), aspect=\"auto\", cmap=\"viridis\", origin=\"lower\",\n",
    "           extent=[coh.times[0], coh.times[-1], coh.trials[0], coh.trials[-1]], \n",
    "           vmin=0, vmax=.7)\n",
    "plt.title(f\"{bands[3]}\")\n",
    "plt.xlabel(\"Time [s]\")\n",
    "plt.yticks([])\n",
    "\n",
    "\n",
    "norm = matplotlib.colors.Normalize(vmin=0, vmax=.7)\n",
    "cbar = plt.colorbar(mappable=plt.cm.ScalarMappable(cmap=matplotlib.cm.viridis, norm=norm), cax=ax6, extend=\"max\", shrink=0.1)\n",
    "cbar.ax.set_ylabel(\"coherence\", rotation='vertical', fontsize=SMALL_SIZE)\n",
    "\n",
    "plot.add_panel_letters(fig, axes=[ax1, ax2, ax4, ax5], fontsize=12,\n",
    "                       xpos=[-0.12, -0.12, -0.12, -0.12], ypos=[1.0, 1.0, 1.0, 1.0])\n",
    "\n",
    "bg = plot.Background(visible=False)\n",
    "\n",
    "plt.savefig(f\"{path_fig}/single_trial_coh_model.png\")"
   ]
  },
  {
   "cell_type": "markdown",
   "metadata": {},
   "source": [
    "### Surrogates"
   ]
  },
  {
   "cell_type": "code",
   "execution_count": null,
   "metadata": {},
   "outputs": [],
   "source": [
    "import sys\n",
    "import sys; sys.path.insert(1, '/home/vinicius/storage1/projects/brainhack_2021/signal')"
   ]
  },
  {
   "cell_type": "code",
   "execution_count": null,
   "metadata": {},
   "outputs": [],
   "source": [
    "from surrogates import trial_swap_surrogates"
   ]
  },
  {
   "cell_type": "code",
   "execution_count": null,
   "metadata": {},
   "outputs": [],
   "source": [
    "# define temporal windows + compute the DFC\n",
    "n_cycles = freqs/2.\n",
    "\n",
    "kw = dict(\n",
    "    freqs=freqs, times=\"times\", roi=None, foi=None, n_jobs=-1,\n",
    "    mode='morlet', n_cycles=n_cycles, decim=15, metric=\"coh\", sm_kernel=\"square\",\n",
    "    sm_times=1.5, sm_freqs=1, block_size=1\n",
    ")\n",
    "\n",
    "kw[\"foi\"]          = foi   = np.array([\n",
    "                                        [0.1, 25.],\n",
    "                                        [25., 50.],\n",
    "                                        [50., 75.],\n",
    "                                        [75., 100.],\n",
    "                                            ])\n",
    " \n",
    "coh = conn_spec(X, **kw)"
   ]
  },
  {
   "cell_type": "code",
   "execution_count": null,
   "metadata": {},
   "outputs": [],
   "source": [
    "def _surrogate_coh(n_surr):\n",
    "\n",
    "    seeds = np.arange(n_surr, dtype=int) * 100\n",
    "    \n",
    "    coh = []\n",
    "    for seed in tqdm( seeds ):\n",
    "        X_rnd = trial_swap_surrogates(X,seed=seed,verbose=False)\n",
    "        coh  += [conn_spec(X_rnd, **kw)]\n",
    "    return xr.concat(coh, \"seeds\")"
   ]
  },
  {
   "cell_type": "code",
   "execution_count": null,
   "metadata": {
    "tags": []
   },
   "outputs": [],
   "source": [
    "coh_surr = _surrogate_coh(10)"
   ]
  },
  {
   "cell_type": "code",
   "execution_count": null,
   "metadata": {},
   "outputs": [],
   "source": [
    "fig = plt.figure(figsize=(6., 5), dpi=150)\n",
    "\n",
    "gs1 = fig.add_gridspec(nrows=2, ncols=2, left=0.08, right=0.95, bottom=0.1, top=0.94, hspace=0.3, wspace=.2)\n",
    "\n",
    "# Panel A\n",
    "ax1 = plt.subplot(gs1[0])\n",
    "ax2 = plt.subplot(gs1[1])\n",
    "ax3 = plt.subplot(gs1[2])\n",
    "ax4 = plt.subplot(gs1[3])\n",
    "\n",
    "ax_list = fig.get_axes()\n",
    "\n",
    "for i in range(coh.sizes[\"freqs\"]):\n",
    "    plt.sca(ax_list[i])\n",
    "    plt.hist(coh_surr.isel(freqs=i).values.flatten(), density=True,bins=100, label='Surrogate', histtype='step', fill=False, color='b');\n",
    "    plt.hist(coh.isel(freqs=i).values.flatten(), density=True,bins=100, label='Original', histtype='step', fill=False, color='r');\n",
    "    if i==0 or i==2: plt.ylabel('#')\n",
    "    if i>1: plt.xlabel('Coherence')\n",
    "    if i==1 or i==3: plt.yticks([])\n",
    "    if i==0 or i==1: plt.xticks([])\n",
    "    if i==0: plt.legend()\n",
    "    plt.title(f'{bands[i]}')\n",
    "    ax_list[i].spines['right'].set_visible(False)\n",
    "    ax_list[i].spines['top'].set_visible(False)\n",
    "    plt.ylim([0,11])\n",
    "    plt.xlim([0,.7])\n",
    "\n",
    "plot.add_panel_letters(fig, axes=[ax1, ax2, ax3, ax4], fontsize=12,\n",
    "                       xpos=[-0.14, -0.14, -0.14, -0.14], ypos=[1.05, 1.05, 1.05, 1.05])\n",
    "\n",
    "bg = plot.Background(visible=False)\n",
    "\n",
    "plt.savefig(f\"{path_fig}/surr_coh_model.png\")"
   ]
  },
  {
   "cell_type": "markdown",
   "metadata": {},
   "source": [
    "### Estimating coherence for broadbands using Multitaper method\n",
    "\n",
    "To estimate the coherence (or spectra) in given bands we can use the multitaper method. Supose that we have the center frequencies of each band $f_c = \\{f_{0},\\dots, f_{n}\\}$, where $n$ is the number of bands, and the bandwidth of each band $\\delta f = \\{\\delta f_{0},\\dots,\\delta f_{n}\\}$.\n",
    "\n",
    "If $t_b$ is the time bandwidth of the Multitaper transform, the number of cycles can be computed by:\n",
    "\n",
    "$n_\\rm{cycles} = t_b\\frac{f_c}{\\delta f}$\n",
    "\n",
    "This can be used to compute the spctra (and the coherence) directly in each band of interest.\n",
    "\n",
    "For this example using the toy model, let's supose that:\n",
    "\n",
    "$f_c = \\{12.5, 37.5, 62.5, 87.5\\}$, and\n",
    "\n",
    "$\\delta f = \\{12.5, 12.5, 12.5, 12.5\\}$\n",
    " \n",
    "If we set $t_b = 8.0$, the number of cycles will be $n_\\rm{cycles} = 8.0\\frac{f_c}{12.5} =\\{8, 24, 40, 56\\}$"
   ]
  },
  {
   "cell_type": "code",
   "execution_count": null,
   "metadata": {},
   "outputs": [],
   "source": [
    "f_c = np.array([12.5,37.5,62.5,87.5])\n",
    "d_f = 12.5\n",
    "t_b = 4.0\n",
    "n_cycles = t_b * f_c / d_f"
   ]
  },
  {
   "cell_type": "code",
   "execution_count": null,
   "metadata": {},
   "outputs": [],
   "source": [
    "plt.figure(figsize=(12,8))\n",
    "count = 1\n",
    "\n",
    "for i in range(len(win_time)):\n",
    "\n",
    "    kw = dict(\n",
    "    freqs=f_c, times=\"times\", roi=None, foi=None, n_jobs=1,\n",
    "    mode='morlet', n_cycles=n_cycles, decim=15, metric=\"coh\",\n",
    "    sm_times=win_time[i], sm_freqs=1, block_size=1\n",
    "    )\n",
    "    \n",
    "    coh = conn_spec(X, **kw)\n",
    "\n",
    "    plt.subplot(2,2,count)\n",
    "    for b in range(len(f_c)):\n",
    "        plt.plot(coh.times, coh.isel(roi=0).mean(dim='trials')[b,:], label = bands[b])\n",
    "        if i%2==0: plt.ylabel('Frequency [Hz]', fontsize=15)\n",
    "        if i==2 or i==3: plt.xlabel('Time [s]', fontsize=15)\n",
    "        plt.title('w_t = ' + str(win_time[i]), fontsize=15)\n",
    "        plt.legend()\n",
    "        plt.xlim(coh.times[0],coh.times[-1])\n",
    "    count += 1\n",
    "plt.tight_layout()"
   ]
  },
  {
   "cell_type": "markdown",
   "metadata": {},
   "source": [
    "As expected using $w_f>1$ is not good because it averages over bands creating artificial peaks. And big values of $w_t$ results in poor temporal resolution of events, for instance for $w_t=70$ the moment when the coupling between $X_1(t)$ and $X_2(t)$ is turned off is not well located in time."
   ]
  },
  {
   "cell_type": "code",
   "execution_count": null,
   "metadata": {},
   "outputs": [],
   "source": []
  }
 ],
 "metadata": {
  "kernelspec": {
   "display_name": "Python 3 (ipykernel)",
   "language": "python",
   "name": "python3"
  },
  "language_info": {
   "codemirror_mode": {
    "name": "ipython",
    "version": 3
   },
   "file_extension": ".py",
   "mimetype": "text/x-python",
   "name": "python",
   "nbconvert_exporter": "python",
   "pygments_lexer": "ipython3",
   "version": "3.8.8"
  }
 },
 "nbformat": 4,
 "nbformat_minor": 4
}
